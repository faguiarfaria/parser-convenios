{
  "cells": [
    {
      "cell_type": "markdown",
      "id": "cc7432c0",
      "metadata": {
        "id": "cc7432c0"
      },
      "source": [
        "# Parser Unimed Odonto\n",
        "Este notebook extrai procedimentos de um relatório Unimed Odonto em PDF e exporta para Excel (.xls)."
      ]
    },
    {
      "cell_type": "code",
      "execution_count": null,
      "id": "3f364be7",
      "metadata": {
        "id": "3f364be7"
      },
      "outputs": [],
      "source": [
        "# 📌 PASSO 1 - Instala as dependências necessárias\n",
        "!pip install pdfplumber xlwt"
      ]
    },
    {
      "cell_type": "code",
      "execution_count": null,
      "id": "c0fa2a8a",
      "metadata": {
        "id": "c0fa2a8a"
      },
      "outputs": [],
      "source": [
        "# 📁 PASSO 2 - Faz upload do PDF manualmente (ou use do Google Drive)\n",
        "from google.colab import files\n",
        "uploaded = files.upload()\n",
        "\n",
        "import os\n",
        "for fname in uploaded.keys():\n",
        "    pdf_path = os.path.abspath(fname)\n",
        "print(\"PDF carregado:\", pdf_path)"
      ]
    },
    {
      "cell_type": "code",
      "execution_count": null,
      "id": "dbfc19a1",
      "metadata": {
        "id": "dbfc19a1"
      },
      "outputs": [],
      "source": [
        "# 🔎 PASSO 3 - Função principal para extração dos dados\n",
        "import pdfplumber\n",
        "import pandas as pd\n",
        "import re\n",
        "\n",
        "def extrair_dados_unimed(pdf_path):\n",
        "    dados = []\n",
        "    gto_atual = \"\"\n",
        "    codigo_paciente = \"\"\n",
        "    nome_paciente = \"\"\n",
        "\n",
        "    with pdfplumber.open(pdf_path) as pdf:\n",
        "        for page in pdf.pages:\n",
        "            linhas = page.extract_text().split('\\n')\n",
        "            for linha in linhas:\n",
        "                match_gto = re.match(r\"GTO:(\\d+)\\s+CÓDIGO E NOME DO BENEFICIÁRIO:\\s+(\\d+)\\s+-\\s+(.+)\", linha)\n",
        "                if match_gto:\n",
        "                    gto_atual = match_gto.group(1).strip()\n",
        "                    codigo_paciente = match_gto.group(2).strip()\n",
        "                    nome_paciente = match_gto.group(3).strip()\n",
        "                    continue\n",
        "\n",
        "                match_proc = re.match(\n",
        "                    r\"(\\d{8}) (.+?)\\s+(\\S+)\\s+(Pago|Glosado|Deferido|Indeferido)\\s+([\\d,]+)\\s+([\\d,]+)\\s+([\\d,]+)\\s+(\\d{2}/\\d{2}/\\d{4})\",\n",
        "                    linha\n",
        "                )\n",
        "\n",
        "                if match_proc:\n",
        "                    cod_proc = match_proc.group(1)\n",
        "                    desc_proc = match_proc.group(2).strip()\n",
        "                    detalhe_face = match_proc.group(3).strip()\n",
        "                    status = match_proc.group(4)\n",
        "                    valor_proc = match_proc.group(5).replace(\",\", \".\")\n",
        "                    valor_glosa = match_proc.group(6).replace(\",\", \".\")\n",
        "                    valor_final = match_proc.group(7).replace(\",\", \".\")\n",
        "                    data = match_proc.group(8)\n",
        "\n",
        "                    if detalhe_face.isdigit():\n",
        "                        detalhe = detalhe_face\n",
        "                        face = \"\"\n",
        "                    elif detalhe_face.isalpha():\n",
        "                        detalhe = \"\"\n",
        "                        face = detalhe_face\n",
        "                    else:\n",
        "                        detalhe = detalhe_face[:-2]\n",
        "                        face = detalhe_face[-2:]\n",
        "\n",
        "                    dados.append({\n",
        "                        \"Data do atendimento\": data,\n",
        "                        \"Código do paciente\": codigo_paciente,\n",
        "                        \"Nome do paciente\": nome_paciente,\n",
        "                        \"Descrição do procedimento\": desc_proc,\n",
        "                        \"Detalhe\": detalhe,\n",
        "                        \"Face\": face,\n",
        "                        \"Número da GTO\": gto_atual,\n",
        "                        \"Status do procedimento\": status,\n",
        "                        \"Valor do procedimento (R$)\": valor_proc,\n",
        "                        \"Valor glosado (R$)\": valor_glosa,\n",
        "                        \"Valor final (R$)\": valor_final\n",
        "                    })\n",
        "\n",
        "    return pd.DataFrame(dados)\n",
        "\n",
        "df = extrair_dados_unimed(pdf_path)\n",
        "df.head()\n"
      ]
    },
    {
      "cell_type": "code",
      "execution_count": null,
      "id": "0cbab67b",
      "metadata": {
        "id": "0cbab67b"
      },
      "outputs": [],
      "source": [
        "\n",
        "# 💾 PASSO 4 - Exporta o DataFrame para Excel\n",
        "df.to_excel(\"procedimentos_unimed.xlsx\", index=False, engine='openpyxl')\n",
        "files.download(\"procedimentos_unimed.xlsx\")\n"
      ]
    }
  ],
  "metadata": {
    "colab": {
      "provenance": []
    },
    "kernelspec": {
      "display_name": "Python 3",
      "name": "python3"
    },
    "language_info": {
      "name": "python"
    }
  },
  "nbformat": 4,
  "nbformat_minor": 5
}