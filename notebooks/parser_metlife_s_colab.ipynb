{
 "cells": [
  {
   "cell_type": "markdown",
   "id": "638a4b4b",
   "metadata": {},
   "source": [
    "# Parser de Relatório MetLife Sintético\n",
    "\n",
    "Adapte o caminho do PDF conforme necessário, ou faça upload pelo Colab. O script gera um arquivo Excel com os repasses e GTOs extraídos."
   ]
  },
  {
   "cell_type": "code",
   "execution_count": null,
   "id": "21386f2f",
   "metadata": {},
   "outputs": [],
   "source": [
    "!pip install pdfplumber openpyxl"
   ]
  },
  {
   "cell_type": "markdown",
   "id": "f235bf7a",
   "metadata": {},
   "source": [
    "## Upload do PDF"
   ]
  },
  {
   "cell_type": "code",
   "execution_count": null,
   "id": "f8075e8f",
   "metadata": {},
   "outputs": [],
   "source": [
    "# Se estiver usando o Colab, faça upload do PDF e pegue o caminho\n",
    "from google.colab import files\n",
    "uploaded = files.upload()\n",
    "pdf_path = list(uploaded.keys())[0]  # Nome do arquivo enviado"
   ]
  },
  {
   "cell_type": "code",
   "execution_count": null,
   "id": "cb977114",
   "metadata": {},
   "outputs": [],
   "source": [
    "import pdfplumber  # Biblioteca para ler e extrair texto de arquivos PDF\n",
    "import pandas as pd  # Biblioteca para manipulação de dados em tabelas (DataFrames)\n",
    "import re  # Biblioteca para trabalhar com expressões regulares (padrões de texto)\n",
    "from google.colab import files\n",
    "\n",
    "def extrair_dados_metlife_s(pdf_path):\n",
    "    resultados = []\n",
    "    repasses = []\n",
    "\n",
    "    texto_completo = \"\"\n",
    "    with pdfplumber.open(pdf_path) as pdf:\n",
    "        for page in pdf.pages:\n",
    "            texto = page.extract_text()\n",
    "            if texto:\n",
    "                texto_completo += texto + \"\\n\"\n",
    "\n",
    "    linhas = texto_completo.split('\\n')\n",
    "\n",
    "    def to_float(valor):\n",
    "        try:\n",
    "            return float(valor.replace('.', '').replace(',', '.').strip())\n",
    "        except:\n",
    "            return 0.0\n",
    "\n",
    "    i = 0\n",
    "    while i < len(linhas):\n",
    "        if linhas[i].strip().startswith(\"PRESTADOR:\"):\n",
    "            repasse_match = re.search(r\"REPASSE:\\s*(\\d{7})\", linhas[i].strip())\n",
    "            num_repasse = repasse_match.group(1) if repasse_match else \"\"\n",
    "            if num_repasse:\n",
    "                repasses.append({\"Repasses\": num_repasse})\n",
    "        i += 1\n",
    "\n",
    "    i = 0\n",
    "    while i < len(linhas):\n",
    "        # Initialize variables at the beginning of each iteration\n",
    "        gto = \"\"\n",
    "        glosa = \"\"\n",
    "        valor_info = valor_glosa = valor_pago = 0.0\n",
    "        situação_gto = \"P\"\n",
    "        cod_paciente = \"\"\n",
    "        nome_social = \"\"\n",
    "\n",
    "\n",
    "        if linhas[i].strip().startswith(\"GTO:\"):\n",
    "            gto_match = re.search(r\"GTO:\\s*(\\d{9})\", linhas[i].strip())\n",
    "            gto = gto_match.group(1) if gto_match else \"\"\n",
    "\n",
    "            if i + 1 < len(linhas):\n",
    "                linha_paciente = linhas[i + 1].strip()\n",
    "                paciente_match = re.search(r\"CÓDIGO/NOME BENEFICIÁRIO:\\s*(\\d{14})\", linha_paciente)\n",
    "                cod_paciente = paciente_match.group(1) if paciente_match else \"\"\n",
    "                if cod_paciente:\n",
    "                    tokens = linha_paciente.split()\n",
    "                    try:\n",
    "                        idx_ini = tokens.index(\"-\") + 1\n",
    "                        idx_fim = tokens.index(\"TITULAR:\")\n",
    "                        nome_tokens = tokens[idx_ini:idx_fim]\n",
    "                        nome_social = \" \".join(nome_tokens)\n",
    "                    except ValueError:\n",
    "                        pass\n",
    "        if linhas[i].strip().startswith(\"TOTAL DA GTO\"):\n",
    "            linha_valores = linhas[i].strip()\n",
    "            if linha_valores:\n",
    "                tokens = linha_valores.split()\n",
    "                try:\n",
    "                    valor_glosa = to_float(tokens[3])\n",
    "                    valor_pago = to_float(tokens[4])\n",
    "                    valor_info = valor_glosa + valor_pago\n",
    "                    if valor_glosa > 0:\n",
    "                        situação_gto = \"GL\"\n",
    "                except ValueError:\n",
    "                    pass\n",
    "        if valor_info > 0:\n",
    "            resultados.append({\n",
    "                \"Data\": \"\",\n",
    "                \"Mariana\": \"\",\n",
    "                \"Repetida?\": \"\",\n",
    "                \"GTO\": gto,\n",
    "                \"Plano\": \"MetLife\",\n",
    "                \"Situação\": situação_gto,\n",
    "                \"Cod Glosa\": \"\",\n",
    "                \"Detalhes\": glosa,\n",
    "                \"Valor GTO\": valor_info,\n",
    "                \"Valor Glosa\": valor_glosa,\n",
    "                \"Valor Final\": valor_pago,\n",
    "                \"Localidade\": \"\",\n",
    "                \"Acesso\": \"\",\n",
    "                \"Paciente\": nome_social,\n",
    "                \"ID\": cod_paciente,\n",
    "                \"Procedimento\": \"\",\n",
    "                \"Index\": \"Metlife.\" + gto,\n",
    "            })\n",
    "        i += 1\n",
    "\n",
    "    df_repasse = pd.DataFrame(repasses)\n",
    "    df_gto = pd.DataFrame(resultados)\n",
    "    saida = \"procedimentos_metlife_sintetico.xlsx\"\n",
    "    with pd.ExcelWriter(saida, engine='openpyxl') as writer:\n",
    "        df_repasse.to_excel(writer, index=False)\n",
    "        df_gto.to_excel(writer, index=False, startrow=len(df_repasse) + 2)\n",
    "    print(f\"Arquivo exportado com sucesso: {saida}\")\n",
    "    return saida\n"
   ]
  },
  {
   "cell_type": "markdown",
   "id": "e9e6cf77",
   "metadata": {},
   "source": [
    "## Executando o parser"
   ]
  },
  {
   "cell_type": "code",
   "execution_count": null,
   "id": "854d3eb0",
   "metadata": {},
   "outputs": [],
   "source": [
    "saida = extrair_dados_metlife_s(pdf_path)"
   ]
  },
  {
   "cell_type": "markdown",
   "id": "f2efa9d7",
   "metadata": {},
   "source": [
    "## Download do resultado"
   ]
  },
  {
   "cell_type": "code",
   "execution_count": null,
   "id": "c52e5659",
   "metadata": {},
   "outputs": [],
   "source": [
    "files.download(saida)"
   ]
  }
 ],
 "metadata": {
  "language_info": {
   "name": "python"
  }
 },
 "nbformat": 4,
 "nbformat_minor": 5
}
